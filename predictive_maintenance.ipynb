{
 "cells": [
  {
   "cell_type": "markdown",
   "metadata": {},
   "source": [
    "## Projet Pacte Semestre 8 : Predictive Maintenance\n",
    "### Sujet : Machine learning pour la maintenance prédictive "
   ]
  },
  {
   "cell_type": "markdown",
   "metadata": {},
   "source": [
    "Dans le cadre de ce projet nous nous interessons à la prédiction de la maintenance des machines. Il s'agirait donc de prédire si une machine va tomber en panne et quel est le type de panne.\n",
    "\n",
    "Nous allons utiliser un dataset composé de 10000 enregistrements et 14 features"
   ]
  },
  {
   "cell_type": "code",
   "execution_count": 24,
   "metadata": {},
   "outputs": [],
   "source": [
    "import pandas as pd\n",
    "import matplotlib.pyplot as plt \n",
    "import seaborn as sns\n"
   ]
  },
  {
   "cell_type": "markdown",
   "metadata": {},
   "source": [
    "#### Chargement des données"
   ]
  },
  {
   "cell_type": "code",
   "execution_count": 25,
   "metadata": {},
   "outputs": [],
   "source": [
    "#Chagement des données\n",
    "data = pd.read_csv(\"predictive_maintenance.csv\")"
   ]
  },
  {
   "cell_type": "code",
   "execution_count": 26,
   "metadata": {},
   "outputs": [
    {
     "data": {
      "application/vnd.microsoft.datawrangler.viewer.v0+json": {
       "columns": [
        {
         "name": "index",
         "rawType": "int64",
         "type": "integer"
        },
        {
         "name": "UDI",
         "rawType": "int64",
         "type": "integer"
        },
        {
         "name": "Product ID",
         "rawType": "object",
         "type": "string"
        },
        {
         "name": "Type",
         "rawType": "object",
         "type": "string"
        },
        {
         "name": "Air temperature [K]",
         "rawType": "float64",
         "type": "float"
        },
        {
         "name": "Process temperature [K]",
         "rawType": "float64",
         "type": "float"
        },
        {
         "name": "Rotational speed [rpm]",
         "rawType": "int64",
         "type": "integer"
        },
        {
         "name": "Torque [Nm]",
         "rawType": "float64",
         "type": "float"
        },
        {
         "name": "Tool wear [min]",
         "rawType": "int64",
         "type": "integer"
        },
        {
         "name": "Target",
         "rawType": "int64",
         "type": "integer"
        },
        {
         "name": "Failure Type",
         "rawType": "object",
         "type": "string"
        }
       ],
       "conversionMethod": "pd.DataFrame",
       "ref": "49404833-0e53-4b8b-ad41-9db354bc5031",
       "rows": [
        [
         "0",
         "1",
         "M14860",
         "M",
         "298.1",
         "308.6",
         "1551",
         "42.8",
         "0",
         "0",
         "No Failure"
        ],
        [
         "1",
         "2",
         "L47181",
         "L",
         "298.2",
         "308.7",
         "1408",
         "46.3",
         "3",
         "0",
         "No Failure"
        ],
        [
         "2",
         "3",
         "L47182",
         "L",
         "298.1",
         "308.5",
         "1498",
         "49.4",
         "5",
         "0",
         "No Failure"
        ],
        [
         "3",
         "4",
         "L47183",
         "L",
         "298.2",
         "308.6",
         "1433",
         "39.5",
         "7",
         "0",
         "No Failure"
        ],
        [
         "4",
         "5",
         "L47184",
         "L",
         "298.2",
         "308.7",
         "1408",
         "40.0",
         "9",
         "0",
         "No Failure"
        ],
        [
         "5",
         "6",
         "M14865",
         "M",
         "298.1",
         "308.6",
         "1425",
         "41.9",
         "11",
         "0",
         "No Failure"
        ],
        [
         "6",
         "7",
         "L47186",
         "L",
         "298.1",
         "308.6",
         "1558",
         "42.4",
         "14",
         "0",
         "No Failure"
        ],
        [
         "7",
         "8",
         "L47187",
         "L",
         "298.1",
         "308.6",
         "1527",
         "40.2",
         "16",
         "0",
         "No Failure"
        ],
        [
         "8",
         "9",
         "M14868",
         "M",
         "298.3",
         "308.7",
         "1667",
         "28.6",
         "18",
         "0",
         "No Failure"
        ],
        [
         "9",
         "10",
         "M14869",
         "M",
         "298.5",
         "309.0",
         "1741",
         "28.0",
         "21",
         "0",
         "No Failure"
        ]
       ],
       "shape": {
        "columns": 10,
        "rows": 10
       }
      },
      "text/html": [
       "<div>\n",
       "<style scoped>\n",
       "    .dataframe tbody tr th:only-of-type {\n",
       "        vertical-align: middle;\n",
       "    }\n",
       "\n",
       "    .dataframe tbody tr th {\n",
       "        vertical-align: top;\n",
       "    }\n",
       "\n",
       "    .dataframe thead th {\n",
       "        text-align: right;\n",
       "    }\n",
       "</style>\n",
       "<table border=\"1\" class=\"dataframe\">\n",
       "  <thead>\n",
       "    <tr style=\"text-align: right;\">\n",
       "      <th></th>\n",
       "      <th>UDI</th>\n",
       "      <th>Product ID</th>\n",
       "      <th>Type</th>\n",
       "      <th>Air temperature [K]</th>\n",
       "      <th>Process temperature [K]</th>\n",
       "      <th>Rotational speed [rpm]</th>\n",
       "      <th>Torque [Nm]</th>\n",
       "      <th>Tool wear [min]</th>\n",
       "      <th>Target</th>\n",
       "      <th>Failure Type</th>\n",
       "    </tr>\n",
       "  </thead>\n",
       "  <tbody>\n",
       "    <tr>\n",
       "      <th>0</th>\n",
       "      <td>1</td>\n",
       "      <td>M14860</td>\n",
       "      <td>M</td>\n",
       "      <td>298.1</td>\n",
       "      <td>308.6</td>\n",
       "      <td>1551</td>\n",
       "      <td>42.8</td>\n",
       "      <td>0</td>\n",
       "      <td>0</td>\n",
       "      <td>No Failure</td>\n",
       "    </tr>\n",
       "    <tr>\n",
       "      <th>1</th>\n",
       "      <td>2</td>\n",
       "      <td>L47181</td>\n",
       "      <td>L</td>\n",
       "      <td>298.2</td>\n",
       "      <td>308.7</td>\n",
       "      <td>1408</td>\n",
       "      <td>46.3</td>\n",
       "      <td>3</td>\n",
       "      <td>0</td>\n",
       "      <td>No Failure</td>\n",
       "    </tr>\n",
       "    <tr>\n",
       "      <th>2</th>\n",
       "      <td>3</td>\n",
       "      <td>L47182</td>\n",
       "      <td>L</td>\n",
       "      <td>298.1</td>\n",
       "      <td>308.5</td>\n",
       "      <td>1498</td>\n",
       "      <td>49.4</td>\n",
       "      <td>5</td>\n",
       "      <td>0</td>\n",
       "      <td>No Failure</td>\n",
       "    </tr>\n",
       "    <tr>\n",
       "      <th>3</th>\n",
       "      <td>4</td>\n",
       "      <td>L47183</td>\n",
       "      <td>L</td>\n",
       "      <td>298.2</td>\n",
       "      <td>308.6</td>\n",
       "      <td>1433</td>\n",
       "      <td>39.5</td>\n",
       "      <td>7</td>\n",
       "      <td>0</td>\n",
       "      <td>No Failure</td>\n",
       "    </tr>\n",
       "    <tr>\n",
       "      <th>4</th>\n",
       "      <td>5</td>\n",
       "      <td>L47184</td>\n",
       "      <td>L</td>\n",
       "      <td>298.2</td>\n",
       "      <td>308.7</td>\n",
       "      <td>1408</td>\n",
       "      <td>40.0</td>\n",
       "      <td>9</td>\n",
       "      <td>0</td>\n",
       "      <td>No Failure</td>\n",
       "    </tr>\n",
       "    <tr>\n",
       "      <th>5</th>\n",
       "      <td>6</td>\n",
       "      <td>M14865</td>\n",
       "      <td>M</td>\n",
       "      <td>298.1</td>\n",
       "      <td>308.6</td>\n",
       "      <td>1425</td>\n",
       "      <td>41.9</td>\n",
       "      <td>11</td>\n",
       "      <td>0</td>\n",
       "      <td>No Failure</td>\n",
       "    </tr>\n",
       "    <tr>\n",
       "      <th>6</th>\n",
       "      <td>7</td>\n",
       "      <td>L47186</td>\n",
       "      <td>L</td>\n",
       "      <td>298.1</td>\n",
       "      <td>308.6</td>\n",
       "      <td>1558</td>\n",
       "      <td>42.4</td>\n",
       "      <td>14</td>\n",
       "      <td>0</td>\n",
       "      <td>No Failure</td>\n",
       "    </tr>\n",
       "    <tr>\n",
       "      <th>7</th>\n",
       "      <td>8</td>\n",
       "      <td>L47187</td>\n",
       "      <td>L</td>\n",
       "      <td>298.1</td>\n",
       "      <td>308.6</td>\n",
       "      <td>1527</td>\n",
       "      <td>40.2</td>\n",
       "      <td>16</td>\n",
       "      <td>0</td>\n",
       "      <td>No Failure</td>\n",
       "    </tr>\n",
       "    <tr>\n",
       "      <th>8</th>\n",
       "      <td>9</td>\n",
       "      <td>M14868</td>\n",
       "      <td>M</td>\n",
       "      <td>298.3</td>\n",
       "      <td>308.7</td>\n",
       "      <td>1667</td>\n",
       "      <td>28.6</td>\n",
       "      <td>18</td>\n",
       "      <td>0</td>\n",
       "      <td>No Failure</td>\n",
       "    </tr>\n",
       "    <tr>\n",
       "      <th>9</th>\n",
       "      <td>10</td>\n",
       "      <td>M14869</td>\n",
       "      <td>M</td>\n",
       "      <td>298.5</td>\n",
       "      <td>309.0</td>\n",
       "      <td>1741</td>\n",
       "      <td>28.0</td>\n",
       "      <td>21</td>\n",
       "      <td>0</td>\n",
       "      <td>No Failure</td>\n",
       "    </tr>\n",
       "  </tbody>\n",
       "</table>\n",
       "</div>"
      ],
      "text/plain": [
       "   UDI Product ID Type  Air temperature [K]  Process temperature [K]  \\\n",
       "0    1     M14860    M                298.1                    308.6   \n",
       "1    2     L47181    L                298.2                    308.7   \n",
       "2    3     L47182    L                298.1                    308.5   \n",
       "3    4     L47183    L                298.2                    308.6   \n",
       "4    5     L47184    L                298.2                    308.7   \n",
       "5    6     M14865    M                298.1                    308.6   \n",
       "6    7     L47186    L                298.1                    308.6   \n",
       "7    8     L47187    L                298.1                    308.6   \n",
       "8    9     M14868    M                298.3                    308.7   \n",
       "9   10     M14869    M                298.5                    309.0   \n",
       "\n",
       "   Rotational speed [rpm]  Torque [Nm]  Tool wear [min]  Target Failure Type  \n",
       "0                    1551         42.8                0       0   No Failure  \n",
       "1                    1408         46.3                3       0   No Failure  \n",
       "2                    1498         49.4                5       0   No Failure  \n",
       "3                    1433         39.5                7       0   No Failure  \n",
       "4                    1408         40.0                9       0   No Failure  \n",
       "5                    1425         41.9               11       0   No Failure  \n",
       "6                    1558         42.4               14       0   No Failure  \n",
       "7                    1527         40.2               16       0   No Failure  \n",
       "8                    1667         28.6               18       0   No Failure  \n",
       "9                    1741         28.0               21       0   No Failure  "
      ]
     },
     "execution_count": 26,
     "metadata": {},
     "output_type": "execute_result"
    }
   ],
   "source": [
    "#Affichage des premiers enregistrements\n",
    "data.head(10)"
   ]
  },
  {
   "cell_type": "code",
   "execution_count": 27,
   "metadata": {},
   "outputs": [
    {
     "data": {
      "text/plain": [
       "(10000, 10)"
      ]
     },
     "execution_count": 27,
     "metadata": {},
     "output_type": "execute_result"
    }
   ],
   "source": [
    "# Nombre d'enregistrements et de features\n",
    "data.shape"
   ]
  },
  {
   "cell_type": "code",
   "execution_count": 28,
   "metadata": {},
   "outputs": [
    {
     "name": "stdout",
     "output_type": "stream",
     "text": [
      "Valeur manquantes pat colonne : \n",
      " UDI                        0\n",
      "Product ID                 0\n",
      "Type                       0\n",
      "Air temperature [K]        0\n",
      "Process temperature [K]    0\n",
      "Rotational speed [rpm]     0\n",
      "Torque [Nm]                0\n",
      "Tool wear [min]            0\n",
      "Target                     0\n",
      "Failure Type               0\n",
      "dtype: int64\n"
     ]
    }
   ],
   "source": [
    "# Valerus manquantes \n",
    "valeurs_manquantes = data.isna().sum()\n",
    "print(\"Valeur manquantes pat colonne : \\n\",valeurs_manquantes)"
   ]
  },
  {
   "cell_type": "code",
   "execution_count": 29,
   "metadata": {},
   "outputs": [
    {
     "data": {
      "text/plain": [
       "UDI                        10000\n",
       "Product ID                 10000\n",
       "Type                           3\n",
       "Air temperature [K]           93\n",
       "Process temperature [K]       82\n",
       "Rotational speed [rpm]       941\n",
       "Torque [Nm]                  577\n",
       "Tool wear [min]              246\n",
       "Target                         2\n",
       "Failure Type                   6\n",
       "dtype: int64"
      ]
     },
     "execution_count": 29,
     "metadata": {},
     "output_type": "execute_result"
    }
   ],
   "source": [
    "# Valeurs uniques\n",
    "data.nunique()"
   ]
  },
  {
   "cell_type": "markdown",
   "metadata": {},
   "source": []
  },
  {
   "cell_type": "code",
   "execution_count": 30,
   "metadata": {},
   "outputs": [
    {
     "data": {
      "text/plain": [
       "np.int64(0)"
      ]
     },
     "execution_count": 30,
     "metadata": {},
     "output_type": "execute_result"
    }
   ],
   "source": [
    "#valeurs dupliquées\n",
    "data.duplicated().sum()"
   ]
  },
  {
   "cell_type": "code",
   "execution_count": 31,
   "metadata": {},
   "outputs": [
    {
     "data": {
      "application/vnd.microsoft.datawrangler.viewer.v0+json": {
       "columns": [
        {
         "name": "index",
         "rawType": "object",
         "type": "string"
        },
        {
         "name": "UDI",
         "rawType": "float64",
         "type": "float"
        },
        {
         "name": "Air temperature [K]",
         "rawType": "float64",
         "type": "float"
        },
        {
         "name": "Process temperature [K]",
         "rawType": "float64",
         "type": "float"
        },
        {
         "name": "Rotational speed [rpm]",
         "rawType": "float64",
         "type": "float"
        },
        {
         "name": "Torque [Nm]",
         "rawType": "float64",
         "type": "float"
        },
        {
         "name": "Tool wear [min]",
         "rawType": "float64",
         "type": "float"
        },
        {
         "name": "Target",
         "rawType": "float64",
         "type": "float"
        }
       ],
       "conversionMethod": "pd.DataFrame",
       "ref": "bc40c10b-c71a-418f-9722-a48e27a3befc",
       "rows": [
        [
         "count",
         "10000.0",
         "10000.0",
         "10000.0",
         "10000.0",
         "10000.0",
         "10000.0",
         "10000.0"
        ],
        [
         "mean",
         "5000.5",
         "300.00493",
         "310.00556",
         "1538.7761",
         "39.986909999999995",
         "107.951",
         "0.0339"
        ],
        [
         "std",
         "2886.8956799071675",
         "2.000258682915751",
         "1.4837342191657208",
         "179.2840959134266",
         "9.968933725121337",
         "63.654146636636355",
         "0.18098084265065364"
        ],
        [
         "min",
         "1.0",
         "295.3",
         "305.7",
         "1168.0",
         "3.8",
         "0.0",
         "0.0"
        ],
        [
         "25%",
         "2500.75",
         "298.3",
         "308.8",
         "1423.0",
         "33.2",
         "53.0",
         "0.0"
        ],
        [
         "50%",
         "5000.5",
         "300.1",
         "310.1",
         "1503.0",
         "40.1",
         "108.0",
         "0.0"
        ],
        [
         "75%",
         "7500.25",
         "301.5",
         "311.1",
         "1612.0",
         "46.8",
         "162.0",
         "0.0"
        ],
        [
         "max",
         "10000.0",
         "304.5",
         "313.8",
         "2886.0",
         "76.6",
         "253.0",
         "1.0"
        ]
       ],
       "shape": {
        "columns": 7,
        "rows": 8
       }
      },
      "text/html": [
       "<div>\n",
       "<style scoped>\n",
       "    .dataframe tbody tr th:only-of-type {\n",
       "        vertical-align: middle;\n",
       "    }\n",
       "\n",
       "    .dataframe tbody tr th {\n",
       "        vertical-align: top;\n",
       "    }\n",
       "\n",
       "    .dataframe thead th {\n",
       "        text-align: right;\n",
       "    }\n",
       "</style>\n",
       "<table border=\"1\" class=\"dataframe\">\n",
       "  <thead>\n",
       "    <tr style=\"text-align: right;\">\n",
       "      <th></th>\n",
       "      <th>UDI</th>\n",
       "      <th>Air temperature [K]</th>\n",
       "      <th>Process temperature [K]</th>\n",
       "      <th>Rotational speed [rpm]</th>\n",
       "      <th>Torque [Nm]</th>\n",
       "      <th>Tool wear [min]</th>\n",
       "      <th>Target</th>\n",
       "    </tr>\n",
       "  </thead>\n",
       "  <tbody>\n",
       "    <tr>\n",
       "      <th>count</th>\n",
       "      <td>10000.00000</td>\n",
       "      <td>10000.000000</td>\n",
       "      <td>10000.000000</td>\n",
       "      <td>10000.000000</td>\n",
       "      <td>10000.000000</td>\n",
       "      <td>10000.000000</td>\n",
       "      <td>10000.000000</td>\n",
       "    </tr>\n",
       "    <tr>\n",
       "      <th>mean</th>\n",
       "      <td>5000.50000</td>\n",
       "      <td>300.004930</td>\n",
       "      <td>310.005560</td>\n",
       "      <td>1538.776100</td>\n",
       "      <td>39.986910</td>\n",
       "      <td>107.951000</td>\n",
       "      <td>0.033900</td>\n",
       "    </tr>\n",
       "    <tr>\n",
       "      <th>std</th>\n",
       "      <td>2886.89568</td>\n",
       "      <td>2.000259</td>\n",
       "      <td>1.483734</td>\n",
       "      <td>179.284096</td>\n",
       "      <td>9.968934</td>\n",
       "      <td>63.654147</td>\n",
       "      <td>0.180981</td>\n",
       "    </tr>\n",
       "    <tr>\n",
       "      <th>min</th>\n",
       "      <td>1.00000</td>\n",
       "      <td>295.300000</td>\n",
       "      <td>305.700000</td>\n",
       "      <td>1168.000000</td>\n",
       "      <td>3.800000</td>\n",
       "      <td>0.000000</td>\n",
       "      <td>0.000000</td>\n",
       "    </tr>\n",
       "    <tr>\n",
       "      <th>25%</th>\n",
       "      <td>2500.75000</td>\n",
       "      <td>298.300000</td>\n",
       "      <td>308.800000</td>\n",
       "      <td>1423.000000</td>\n",
       "      <td>33.200000</td>\n",
       "      <td>53.000000</td>\n",
       "      <td>0.000000</td>\n",
       "    </tr>\n",
       "    <tr>\n",
       "      <th>50%</th>\n",
       "      <td>5000.50000</td>\n",
       "      <td>300.100000</td>\n",
       "      <td>310.100000</td>\n",
       "      <td>1503.000000</td>\n",
       "      <td>40.100000</td>\n",
       "      <td>108.000000</td>\n",
       "      <td>0.000000</td>\n",
       "    </tr>\n",
       "    <tr>\n",
       "      <th>75%</th>\n",
       "      <td>7500.25000</td>\n",
       "      <td>301.500000</td>\n",
       "      <td>311.100000</td>\n",
       "      <td>1612.000000</td>\n",
       "      <td>46.800000</td>\n",
       "      <td>162.000000</td>\n",
       "      <td>0.000000</td>\n",
       "    </tr>\n",
       "    <tr>\n",
       "      <th>max</th>\n",
       "      <td>10000.00000</td>\n",
       "      <td>304.500000</td>\n",
       "      <td>313.800000</td>\n",
       "      <td>2886.000000</td>\n",
       "      <td>76.600000</td>\n",
       "      <td>253.000000</td>\n",
       "      <td>1.000000</td>\n",
       "    </tr>\n",
       "  </tbody>\n",
       "</table>\n",
       "</div>"
      ],
      "text/plain": [
       "               UDI  Air temperature [K]  Process temperature [K]  \\\n",
       "count  10000.00000         10000.000000             10000.000000   \n",
       "mean    5000.50000           300.004930               310.005560   \n",
       "std     2886.89568             2.000259                 1.483734   \n",
       "min        1.00000           295.300000               305.700000   \n",
       "25%     2500.75000           298.300000               308.800000   \n",
       "50%     5000.50000           300.100000               310.100000   \n",
       "75%     7500.25000           301.500000               311.100000   \n",
       "max    10000.00000           304.500000               313.800000   \n",
       "\n",
       "       Rotational speed [rpm]   Torque [Nm]  Tool wear [min]        Target  \n",
       "count            10000.000000  10000.000000     10000.000000  10000.000000  \n",
       "mean              1538.776100     39.986910       107.951000      0.033900  \n",
       "std                179.284096      9.968934        63.654147      0.180981  \n",
       "min               1168.000000      3.800000         0.000000      0.000000  \n",
       "25%               1423.000000     33.200000        53.000000      0.000000  \n",
       "50%               1503.000000     40.100000       108.000000      0.000000  \n",
       "75%               1612.000000     46.800000       162.000000      0.000000  \n",
       "max               2886.000000     76.600000       253.000000      1.000000  "
      ]
     },
     "execution_count": 31,
     "metadata": {},
     "output_type": "execute_result"
    }
   ],
   "source": [
    "data.describe()"
   ]
  },
  {
   "cell_type": "code",
   "execution_count": 32,
   "metadata": {},
   "outputs": [
    {
     "name": "stdout",
     "output_type": "stream",
     "text": [
      "                    Column  Unique Values\n",
      "0                      UDI          10000\n",
      "1               Product ID          10000\n",
      "2                     Type              3\n",
      "3      Air temperature [K]             93\n",
      "4  Process temperature [K]             82\n",
      "5   Rotational speed [rpm]            941\n",
      "6              Torque [Nm]            577\n",
      "7          Tool wear [min]            246\n",
      "8                   Target              2\n",
      "9             Failure Type              6\n",
      "Column: Type\n",
      "Unique Values: ['M' 'L' 'H']\n",
      "------------------------------\n",
      "Column: Target\n",
      "Unique Values: [0 1]\n",
      "------------------------------\n",
      "Column: Failure Type\n",
      "Unique Values: ['No Failure' 'Power Failure' 'Tool Wear Failure' 'Overstrain Failure'\n",
      " 'Random Failures' 'Heat Dissipation Failure']\n",
      "------------------------------\n"
     ]
    }
   ],
   "source": [
    "# Vérifier les valeurs uniques pour chaque variable.\n",
    "unique_values = {col: data[col].nunique() for col in data.columns}\n",
    "\n",
    "# Convertir en DataFrame pour un meilleur affichage\n",
    "unique_values_df = pd.DataFrame(list(unique_values.items()), columns=['Column', 'Unique Values'])\n",
    "\n",
    "# Afficher les valeurs uniques\n",
    "print(unique_values_df)\n",
    "\n",
    "# Compter les valeurs uniques dans chaque colonne\n",
    "unique_counts = data.nunique()\n",
    "\n",
    "# Afficher les valeurs uniques pour les colonnes avec moins de 10 valeurs uniques\n",
    "for col in data.columns:\n",
    "    if unique_counts[col] < 10:\n",
    "        print(f\"Column: {col}\")\n",
    "        print(\"Unique Values:\", data[col].unique())\n",
    "        print(\"-\" * 30)"
   ]
  },
  {
   "cell_type": "markdown",
   "metadata": {},
   "source": [
    "### Résumé du Jeu de Données\n",
    "\n",
    "#### 1. Informations Générales\n",
    "- Le jeu de données contient **10 000 lignes** et **10 colonnes**.\n",
    "- Il n'y a **aucune valeur manquante** ou **valeur nulle** dans aucune des colonnes.\n",
    "- Il n'y a **pas de doublons** dans le jeu de données.\n",
    "\n",
    "#### 2. Valeurs Uniques\n",
    "- **UID** et **ID Produit** ont **10 000 valeurs uniques**, ce qui signifie que chaque ligne a un identifiant unique.\n",
    "- **Type** a **3 valeurs uniques** : `['M', 'L', 'H']`, représentant différents niveaux de qualité de produit.\n",
    "- **Cible (Échec ou Non)** a **2 valeurs uniques** : `[0, 1]`, où `0` signifie qu'il n'y a pas de défaillance et `1` signifie qu'il y a une défaillance.\n",
    "- **Type de Défaillance** a **6 valeurs uniques** :  \n",
    "  - `'Pas de défaillance'`  \n",
    "  - `'Défaillance d'alimentation'`  \n",
    "  - `'Défaillance de l'outil'`  \n",
    "  - `'Défaillance par surcontrainte'`  \n",
    "  - `'Défaillances aléatoires'`  \n",
    "  - `'Défaillance par dissipation de chaleur'`  \n",
    "\n",
    "#### 3. Informations Statistiques\n",
    "- **Température de l'air [K]** : Varie de **295,3 K à 304,5 K** avec une moyenne de **300 K**.  \n",
    "- **Température du processus [K]** : Varie de **305,7 K à 313,8 K** avec une moyenne de **310 K**.  \n",
    "- **Vitesse de rotation [tr/min]** : Varie entre **1168 et 2886 tr/min**, avec une moyenne de **1538 tr/min**.  \n",
    "- **Couple [Nm]** : Varie de **3,8 à 76,6 Nm**, avec une moyenne de **39,98 Nm**.  \n",
    "- **Usure de l'outil [min]** : Varie entre **0 et 253 minutes**, avec une moyenne de **107,95 minutes**.  \n",
    "\n",
    "#### 4. Observations Clés sur le Jeu de Données\n",
    "- Le jeu de données est **propre**, sans **valeurs manquantes ni doublons**.\n",
    "- La plupart des caractéristiques sont **numériques**, sauf **Type** et **Type de Défaillance**, qui sont **catégorielles**.\n",
    "- **Les défaillances ne se produisent que dans une petite portion des données** (la moyenne de **Cible** est de **0,0339**, ce qui signifie que ~3,4% des cas ont des défaillances).\n",
    "- **Différents types de défaillances** existent, ce qui rend important de classifier correctement les défaillances.\n",
    "\n",
    "Ce jeu de données est bien structuré pour **la détection de pannes de machines** et sera utilisé pour entraîner un modèle de **détection d'anomalies**.\n"
   ]
  },
  {
   "cell_type": "code",
   "execution_count": 33,
   "metadata": {},
   "outputs": [],
   "source": [
    "# Création d'une copie de la data pour les modifications\n",
    "df = data.copy()"
   ]
  },
  {
   "cell_type": "code",
   "execution_count": 34,
   "metadata": {},
   "outputs": [
    {
     "data": {
      "application/vnd.microsoft.datawrangler.viewer.v0+json": {
       "columns": [
        {
         "name": "index",
         "rawType": "int64",
         "type": "integer"
        },
        {
         "name": "UDI",
         "rawType": "int64",
         "type": "integer"
        },
        {
         "name": "Product ID",
         "rawType": "object",
         "type": "string"
        },
        {
         "name": "Type",
         "rawType": "object",
         "type": "string"
        },
        {
         "name": "Air temperature [K]",
         "rawType": "float64",
         "type": "float"
        },
        {
         "name": "Process temperature [K]",
         "rawType": "float64",
         "type": "float"
        },
        {
         "name": "Rotational speed [rpm]",
         "rawType": "int64",
         "type": "integer"
        },
        {
         "name": "Torque [Nm]",
         "rawType": "float64",
         "type": "float"
        },
        {
         "name": "Tool wear [min]",
         "rawType": "int64",
         "type": "integer"
        },
        {
         "name": "Target",
         "rawType": "int64",
         "type": "integer"
        },
        {
         "name": "Failure Type",
         "rawType": "object",
         "type": "string"
        }
       ],
       "conversionMethod": "pd.DataFrame",
       "ref": "f6ac19fe-dcae-4df9-9c1c-3a6f5ebb0ef4",
       "rows": [
        [
         "0",
         "1",
         "M14860",
         "M",
         "298.1",
         "308.6",
         "1551",
         "42.8",
         "0",
         "0",
         "No Failure"
        ],
        [
         "1",
         "2",
         "L47181",
         "L",
         "298.2",
         "308.7",
         "1408",
         "46.3",
         "3",
         "0",
         "No Failure"
        ],
        [
         "2",
         "3",
         "L47182",
         "L",
         "298.1",
         "308.5",
         "1498",
         "49.4",
         "5",
         "0",
         "No Failure"
        ],
        [
         "3",
         "4",
         "L47183",
         "L",
         "298.2",
         "308.6",
         "1433",
         "39.5",
         "7",
         "0",
         "No Failure"
        ],
        [
         "4",
         "5",
         "L47184",
         "L",
         "298.2",
         "308.7",
         "1408",
         "40.0",
         "9",
         "0",
         "No Failure"
        ]
       ],
       "shape": {
        "columns": 10,
        "rows": 5
       }
      },
      "text/html": [
       "<div>\n",
       "<style scoped>\n",
       "    .dataframe tbody tr th:only-of-type {\n",
       "        vertical-align: middle;\n",
       "    }\n",
       "\n",
       "    .dataframe tbody tr th {\n",
       "        vertical-align: top;\n",
       "    }\n",
       "\n",
       "    .dataframe thead th {\n",
       "        text-align: right;\n",
       "    }\n",
       "</style>\n",
       "<table border=\"1\" class=\"dataframe\">\n",
       "  <thead>\n",
       "    <tr style=\"text-align: right;\">\n",
       "      <th></th>\n",
       "      <th>UDI</th>\n",
       "      <th>Product ID</th>\n",
       "      <th>Type</th>\n",
       "      <th>Air temperature [K]</th>\n",
       "      <th>Process temperature [K]</th>\n",
       "      <th>Rotational speed [rpm]</th>\n",
       "      <th>Torque [Nm]</th>\n",
       "      <th>Tool wear [min]</th>\n",
       "      <th>Target</th>\n",
       "      <th>Failure Type</th>\n",
       "    </tr>\n",
       "  </thead>\n",
       "  <tbody>\n",
       "    <tr>\n",
       "      <th>0</th>\n",
       "      <td>1</td>\n",
       "      <td>M14860</td>\n",
       "      <td>M</td>\n",
       "      <td>298.1</td>\n",
       "      <td>308.6</td>\n",
       "      <td>1551</td>\n",
       "      <td>42.8</td>\n",
       "      <td>0</td>\n",
       "      <td>0</td>\n",
       "      <td>No Failure</td>\n",
       "    </tr>\n",
       "    <tr>\n",
       "      <th>1</th>\n",
       "      <td>2</td>\n",
       "      <td>L47181</td>\n",
       "      <td>L</td>\n",
       "      <td>298.2</td>\n",
       "      <td>308.7</td>\n",
       "      <td>1408</td>\n",
       "      <td>46.3</td>\n",
       "      <td>3</td>\n",
       "      <td>0</td>\n",
       "      <td>No Failure</td>\n",
       "    </tr>\n",
       "    <tr>\n",
       "      <th>2</th>\n",
       "      <td>3</td>\n",
       "      <td>L47182</td>\n",
       "      <td>L</td>\n",
       "      <td>298.1</td>\n",
       "      <td>308.5</td>\n",
       "      <td>1498</td>\n",
       "      <td>49.4</td>\n",
       "      <td>5</td>\n",
       "      <td>0</td>\n",
       "      <td>No Failure</td>\n",
       "    </tr>\n",
       "    <tr>\n",
       "      <th>3</th>\n",
       "      <td>4</td>\n",
       "      <td>L47183</td>\n",
       "      <td>L</td>\n",
       "      <td>298.2</td>\n",
       "      <td>308.6</td>\n",
       "      <td>1433</td>\n",
       "      <td>39.5</td>\n",
       "      <td>7</td>\n",
       "      <td>0</td>\n",
       "      <td>No Failure</td>\n",
       "    </tr>\n",
       "    <tr>\n",
       "      <th>4</th>\n",
       "      <td>5</td>\n",
       "      <td>L47184</td>\n",
       "      <td>L</td>\n",
       "      <td>298.2</td>\n",
       "      <td>308.7</td>\n",
       "      <td>1408</td>\n",
       "      <td>40.0</td>\n",
       "      <td>9</td>\n",
       "      <td>0</td>\n",
       "      <td>No Failure</td>\n",
       "    </tr>\n",
       "  </tbody>\n",
       "</table>\n",
       "</div>"
      ],
      "text/plain": [
       "   UDI Product ID Type  Air temperature [K]  Process temperature [K]  \\\n",
       "0    1     M14860    M                298.1                    308.6   \n",
       "1    2     L47181    L                298.2                    308.7   \n",
       "2    3     L47182    L                298.1                    308.5   \n",
       "3    4     L47183    L                298.2                    308.6   \n",
       "4    5     L47184    L                298.2                    308.7   \n",
       "\n",
       "   Rotational speed [rpm]  Torque [Nm]  Tool wear [min]  Target Failure Type  \n",
       "0                    1551         42.8                0       0   No Failure  \n",
       "1                    1408         46.3                3       0   No Failure  \n",
       "2                    1498         49.4                5       0   No Failure  \n",
       "3                    1433         39.5                7       0   No Failure  \n",
       "4                    1408         40.0                9       0   No Failure  "
      ]
     },
     "execution_count": 34,
     "metadata": {},
     "output_type": "execute_result"
    }
   ],
   "source": [
    "df.head()"
   ]
  },
  {
   "cell_type": "code",
   "execution_count": 35,
   "metadata": {},
   "outputs": [],
   "source": [
    "#Suppression des variables non pertinentes (UDI, Product ID)\n",
    "df.drop(columns=['UDI', 'Product ID'], inplace=True)"
   ]
  },
  {
   "cell_type": "code",
   "execution_count": 36,
   "metadata": {},
   "outputs": [],
   "source": [
    "# Set numeric columns dtype to float\n",
    "df['Tool wear [min]'] = df['Tool wear [min]'].astype('float64')\n",
    "df['Rotational speed [rpm]'] = df['Rotational speed [rpm]'].astype('float64')\n",
    "# Rename features\n",
    "df.rename(mapper={'Air temperature [K]': 'Air temperature',\n",
    "                    'Process temperature [K]': 'Process temperature',\n",
    "                    'Rotational speed [rpm]': 'Rotational speed',\n",
    "                    'Torque [Nm]': 'Torque',\n",
    "                    'Tool wear [min]': 'Tool wear'}, axis=1, inplace=True)"
   ]
  },
  {
   "cell_type": "code",
   "execution_count": null,
   "metadata": {},
   "outputs": [],
   "source": []
  },
  {
   "cell_type": "markdown",
   "metadata": {},
   "source": [
    "### Séparation des features et des variables cibles"
   ]
  },
  {
   "cell_type": "code",
   "execution_count": 37,
   "metadata": {},
   "outputs": [],
   "source": [
    "features = [col for col in df.columns\n",
    "            if df[col].dtype=='float64' or col =='Type']\n",
    "\n",
    "target = ['Target','Failure Type']"
   ]
  },
  {
   "cell_type": "code",
   "execution_count": 38,
   "metadata": {},
   "outputs": [
    {
     "data": {
      "application/vnd.microsoft.datawrangler.viewer.v0+json": {
       "columns": [
        {
         "name": "index",
         "rawType": "int64",
         "type": "integer"
        },
        {
         "name": "Target",
         "rawType": "int64",
         "type": "integer"
        },
        {
         "name": "Failure Type",
         "rawType": "object",
         "type": "string"
        }
       ],
       "conversionMethod": "pd.DataFrame",
       "ref": "37e39417-9192-40fe-b50c-19fba82d00ce",
       "rows": [
        [
         "1221",
         "0",
         "Random Failures"
        ],
        [
         "1302",
         "0",
         "Random Failures"
        ],
        [
         "1748",
         "0",
         "Random Failures"
        ],
        [
         "2072",
         "0",
         "Random Failures"
        ],
        [
         "2559",
         "0",
         "Random Failures"
        ],
        [
         "3065",
         "0",
         "Random Failures"
        ],
        [
         "3452",
         "0",
         "Random Failures"
        ],
        [
         "5471",
         "0",
         "Random Failures"
        ],
        [
         "5489",
         "0",
         "Random Failures"
        ],
        [
         "5495",
         "0",
         "Random Failures"
        ],
        [
         "5509",
         "0",
         "Random Failures"
        ],
        [
         "5553",
         "0",
         "Random Failures"
        ],
        [
         "5639",
         "0",
         "Random Failures"
        ],
        [
         "6091",
         "0",
         "Random Failures"
        ],
        [
         "6913",
         "0",
         "Random Failures"
        ],
        [
         "6960",
         "0",
         "Random Failures"
        ],
        [
         "7488",
         "0",
         "Random Failures"
        ],
        [
         "7868",
         "0",
         "Random Failures"
        ]
       ],
       "shape": {
        "columns": 2,
        "rows": 18
       }
      },
      "text/html": [
       "<div>\n",
       "<style scoped>\n",
       "    .dataframe tbody tr th:only-of-type {\n",
       "        vertical-align: middle;\n",
       "    }\n",
       "\n",
       "    .dataframe tbody tr th {\n",
       "        vertical-align: top;\n",
       "    }\n",
       "\n",
       "    .dataframe thead th {\n",
       "        text-align: right;\n",
       "    }\n",
       "</style>\n",
       "<table border=\"1\" class=\"dataframe\">\n",
       "  <thead>\n",
       "    <tr style=\"text-align: right;\">\n",
       "      <th></th>\n",
       "      <th>Target</th>\n",
       "      <th>Failure Type</th>\n",
       "    </tr>\n",
       "  </thead>\n",
       "  <tbody>\n",
       "    <tr>\n",
       "      <th>1221</th>\n",
       "      <td>0</td>\n",
       "      <td>Random Failures</td>\n",
       "    </tr>\n",
       "    <tr>\n",
       "      <th>1302</th>\n",
       "      <td>0</td>\n",
       "      <td>Random Failures</td>\n",
       "    </tr>\n",
       "    <tr>\n",
       "      <th>1748</th>\n",
       "      <td>0</td>\n",
       "      <td>Random Failures</td>\n",
       "    </tr>\n",
       "    <tr>\n",
       "      <th>2072</th>\n",
       "      <td>0</td>\n",
       "      <td>Random Failures</td>\n",
       "    </tr>\n",
       "    <tr>\n",
       "      <th>2559</th>\n",
       "      <td>0</td>\n",
       "      <td>Random Failures</td>\n",
       "    </tr>\n",
       "    <tr>\n",
       "      <th>3065</th>\n",
       "      <td>0</td>\n",
       "      <td>Random Failures</td>\n",
       "    </tr>\n",
       "    <tr>\n",
       "      <th>3452</th>\n",
       "      <td>0</td>\n",
       "      <td>Random Failures</td>\n",
       "    </tr>\n",
       "    <tr>\n",
       "      <th>5471</th>\n",
       "      <td>0</td>\n",
       "      <td>Random Failures</td>\n",
       "    </tr>\n",
       "    <tr>\n",
       "      <th>5489</th>\n",
       "      <td>0</td>\n",
       "      <td>Random Failures</td>\n",
       "    </tr>\n",
       "    <tr>\n",
       "      <th>5495</th>\n",
       "      <td>0</td>\n",
       "      <td>Random Failures</td>\n",
       "    </tr>\n",
       "    <tr>\n",
       "      <th>5509</th>\n",
       "      <td>0</td>\n",
       "      <td>Random Failures</td>\n",
       "    </tr>\n",
       "    <tr>\n",
       "      <th>5553</th>\n",
       "      <td>0</td>\n",
       "      <td>Random Failures</td>\n",
       "    </tr>\n",
       "    <tr>\n",
       "      <th>5639</th>\n",
       "      <td>0</td>\n",
       "      <td>Random Failures</td>\n",
       "    </tr>\n",
       "    <tr>\n",
       "      <th>6091</th>\n",
       "      <td>0</td>\n",
       "      <td>Random Failures</td>\n",
       "    </tr>\n",
       "    <tr>\n",
       "      <th>6913</th>\n",
       "      <td>0</td>\n",
       "      <td>Random Failures</td>\n",
       "    </tr>\n",
       "    <tr>\n",
       "      <th>6960</th>\n",
       "      <td>0</td>\n",
       "      <td>Random Failures</td>\n",
       "    </tr>\n",
       "    <tr>\n",
       "      <th>7488</th>\n",
       "      <td>0</td>\n",
       "      <td>Random Failures</td>\n",
       "    </tr>\n",
       "    <tr>\n",
       "      <th>7868</th>\n",
       "      <td>0</td>\n",
       "      <td>Random Failures</td>\n",
       "    </tr>\n",
       "  </tbody>\n",
       "</table>\n",
       "</div>"
      ],
      "text/plain": [
       "      Target     Failure Type\n",
       "1221       0  Random Failures\n",
       "1302       0  Random Failures\n",
       "1748       0  Random Failures\n",
       "2072       0  Random Failures\n",
       "2559       0  Random Failures\n",
       "3065       0  Random Failures\n",
       "3452       0  Random Failures\n",
       "5471       0  Random Failures\n",
       "5489       0  Random Failures\n",
       "5495       0  Random Failures\n",
       "5509       0  Random Failures\n",
       "5553       0  Random Failures\n",
       "5639       0  Random Failures\n",
       "6091       0  Random Failures\n",
       "6913       0  Random Failures\n",
       "6960       0  Random Failures\n",
       "7488       0  Random Failures\n",
       "7868       0  Random Failures"
      ]
     },
     "execution_count": 38,
     "metadata": {},
     "output_type": "execute_result"
    }
   ],
   "source": [
    "# Les portions de données avec des Randoms Failures (Target = 0 mais il y a des faillures)\n",
    "index_random_failure = df.loc[df['Failure Type']=='Random Failures'].index\n",
    "df.loc[index_random_failure,target]"
   ]
  },
  {
   "cell_type": "code",
   "execution_count": 39,
   "metadata": {},
   "outputs": [
    {
     "data": {
      "text/plain": [
       "(18, 2)"
      ]
     },
     "execution_count": 39,
     "metadata": {},
     "output_type": "execute_result"
    }
   ],
   "source": [
    "df.loc[index_random_failure,target].shape"
   ]
  },
  {
   "cell_type": "markdown",
   "metadata": {},
   "source": [
    "#### On supprime ces données parce qu'elle ne sont pas nobreuses et en plus elles sont aléatoires."
   ]
  },
  {
   "cell_type": "code",
   "execution_count": 40,
   "metadata": {},
   "outputs": [
    {
     "name": "stdout",
     "output_type": "stream",
     "text": [
      "Nombre des observations ou RNF=1 mais Machine failure=0 : 18\n"
     ]
    }
   ],
   "source": [
    "# Première suppression d'observations (RNF=1 mais Machine failure=0)\n",
    "\n",
    "first_drop = df.loc[index_random_failure,target].shape[0]\n",
    "print('Nombre des observations ou RNF=1 mais Machine failure=0 :',first_drop)\n",
    "# Supprimer les obseravtions correspondantes et la colonne RNF\n",
    "df.drop(index=index_random_failure, inplace=True)"
   ]
  },
  {
   "cell_type": "code",
   "execution_count": 41,
   "metadata": {},
   "outputs": [
    {
     "data": {
      "application/vnd.microsoft.datawrangler.viewer.v0+json": {
       "columns": [
        {
         "name": "index",
         "rawType": "int64",
         "type": "integer"
        },
        {
         "name": "Target",
         "rawType": "int64",
         "type": "integer"
        },
        {
         "name": "Failure Type",
         "rawType": "object",
         "type": "string"
        }
       ],
       "conversionMethod": "pd.DataFrame",
       "ref": "b6aa700f-bf49-4add-8cf0-0573d84bc5d1",
       "rows": [
        [
         "1437",
         "1",
         "No Failure"
        ],
        [
         "2749",
         "1",
         "No Failure"
        ],
        [
         "4044",
         "1",
         "No Failure"
        ],
        [
         "4684",
         "1",
         "No Failure"
        ],
        [
         "5536",
         "1",
         "No Failure"
        ],
        [
         "5941",
         "1",
         "No Failure"
        ],
        [
         "6478",
         "1",
         "No Failure"
        ],
        [
         "8506",
         "1",
         "No Failure"
        ],
        [
         "9015",
         "1",
         "No Failure"
        ]
       ],
       "shape": {
        "columns": 2,
        "rows": 9
       }
      },
      "text/html": [
       "<div>\n",
       "<style scoped>\n",
       "    .dataframe tbody tr th:only-of-type {\n",
       "        vertical-align: middle;\n",
       "    }\n",
       "\n",
       "    .dataframe tbody tr th {\n",
       "        vertical-align: top;\n",
       "    }\n",
       "\n",
       "    .dataframe thead th {\n",
       "        text-align: right;\n",
       "    }\n",
       "</style>\n",
       "<table border=\"1\" class=\"dataframe\">\n",
       "  <thead>\n",
       "    <tr style=\"text-align: right;\">\n",
       "      <th></th>\n",
       "      <th>Target</th>\n",
       "      <th>Failure Type</th>\n",
       "    </tr>\n",
       "  </thead>\n",
       "  <tbody>\n",
       "    <tr>\n",
       "      <th>1437</th>\n",
       "      <td>1</td>\n",
       "      <td>No Failure</td>\n",
       "    </tr>\n",
       "    <tr>\n",
       "      <th>2749</th>\n",
       "      <td>1</td>\n",
       "      <td>No Failure</td>\n",
       "    </tr>\n",
       "    <tr>\n",
       "      <th>4044</th>\n",
       "      <td>1</td>\n",
       "      <td>No Failure</td>\n",
       "    </tr>\n",
       "    <tr>\n",
       "      <th>4684</th>\n",
       "      <td>1</td>\n",
       "      <td>No Failure</td>\n",
       "    </tr>\n",
       "    <tr>\n",
       "      <th>5536</th>\n",
       "      <td>1</td>\n",
       "      <td>No Failure</td>\n",
       "    </tr>\n",
       "    <tr>\n",
       "      <th>5941</th>\n",
       "      <td>1</td>\n",
       "      <td>No Failure</td>\n",
       "    </tr>\n",
       "    <tr>\n",
       "      <th>6478</th>\n",
       "      <td>1</td>\n",
       "      <td>No Failure</td>\n",
       "    </tr>\n",
       "    <tr>\n",
       "      <th>8506</th>\n",
       "      <td>1</td>\n",
       "      <td>No Failure</td>\n",
       "    </tr>\n",
       "    <tr>\n",
       "      <th>9015</th>\n",
       "      <td>1</td>\n",
       "      <td>No Failure</td>\n",
       "    </tr>\n",
       "  </tbody>\n",
       "</table>\n",
       "</div>"
      ],
      "text/plain": [
       "      Target Failure Type\n",
       "1437       1   No Failure\n",
       "2749       1   No Failure\n",
       "4044       1   No Failure\n",
       "4684       1   No Failure\n",
       "5536       1   No Failure\n",
       "5941       1   No Failure\n",
       "6478       1   No Failure\n",
       "8506       1   No Failure\n",
       "9015       1   No Failure"
      ]
     },
     "execution_count": 41,
     "metadata": {},
     "output_type": "execute_result"
    }
   ],
   "source": [
    "# Observations où Target est à 1 mains Failure Type est à No failure\n",
    "\n",
    "index_ambuigous = df.loc[(df['Target']==1) & (df['Failure Type']=='No Failure')].index\n",
    "df.loc[index_ambuigous,target]"
   ]
  },
  {
   "cell_type": "code",
   "execution_count": 42,
   "metadata": {},
   "outputs": [],
   "source": [
    "index_ambuigous = df.loc[(df['Target']==1) & (df['Failure Type']=='No Failure')].index\n",
    "\n",
    "# Mettre la  valeur de Target à 0 pour ces observations\n",
    "df.loc[index_ambuigous,'Target'] = 0"
   ]
  },
  {
   "cell_type": "code",
   "execution_count": 44,
   "metadata": {},
   "outputs": [
    {
     "data": {
      "image/png": "[encoded data removed]",
      "text/plain": [
       "<Figure size 1800x1000 with 5 Axes>"
      ]
     },
     "metadata": {},
     "output_type": "display_data"
    },
    {
     "data": {
      "image/png": "[encoded data removed]",
      "text/plain": [
       "<Figure size 1800x1000 with 5 Axes>"
      ]
     },
     "metadata": {},
     "output_type": "display_data"
    }
   ],
   "source": [
    "numerical_features = [feature for feature in features if df[feature].dtype=='float64']\n",
    "\n",
    "# Histogrammes des variables numériques\n",
    "plt.figure(figsize=(18, 10))\n",
    "plt.suptitle('Histograms of Numerical Features')\n",
    "\n",
    "for i, feature in enumerate(numerical_features, 1):\n",
    "    plt.subplot(2, 3, i)\n",
    "    sns.histplot(df[feature], bins=20, kde=True)\n",
    "    plt.xlabel(feature)\n",
    "    \n",
    "plt.tight_layout()\n",
    "plt.show()\n",
    "    \n",
    "# Boxplots des variables numériques\n",
    "plt.figure(figsize=(18, 10))\n",
    "plt.suptitle('Boite à moustache pour les variables numériques')\n",
    "\n",
    "for i, feature in enumerate(numerical_features, 1):\n",
    "    plt.subplot(2, 3, i)\n",
    "    sns.boxplot(y=df[feature])\n",
    "    plt.ylabel(feature)\n",
    "    \n",
    "plt.tight_layout()\n",
    "plt.show()"
   ]
  },
  {
   "cell_type": "code",
   "execution_count": null,
   "metadata": {},
   "outputs": [],
   "source": []
  },
  {
   "cell_type": "code",
   "execution_count": null,
   "metadata": {},
   "outputs": [],
   "source": []
  }
 ],
 "metadata": {
  "kernelspec": {
   "display_name": "Python 3",
   "language": "python",
   "name": "python3"
  },
  "language_info": {
   "codemirror_mode": {
    "name": "ipython",
    "version": 3
   },
   "file_extension": ".py",
   "mimetype": "text/x-python",
   "name": "python",
   "nbconvert_exporter": "python",
   "pygments_lexer": "ipython3",
   "version": "3.12.7"
  }
 },
 "nbformat": 4,
 "nbformat_minor": 2
}
